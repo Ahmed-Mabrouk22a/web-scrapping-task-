{
 "cells": [
  {
   "cell_type": "code",
   "execution_count": 1,
   "metadata": {},
   "outputs": [],
   "source": [
    "from bs4 import BeautifulSoup\n",
    "import pandas as pd\n",
    "import json\n",
    "import requests\n",
    "\n"
   ]
  },
  {
   "cell_type": "markdown",
   "metadata": {},
   "source": [
    "# get the content of html file "
   ]
  },
  {
   "cell_type": "code",
   "execution_count": 2,
   "metadata": {},
   "outputs": [],
   "source": [
    "\n",
    "page = requests.get(\"https://www.baraasallout.com/test.html\")\n",
    "soup = BeautifulSoup(page.text, 'html.parser')\n",
    "\n"
   ]
  },
  {
   "cell_type": "markdown",
   "metadata": {},
   "source": [
    "# functions to save data into csv and json files "
   ]
  },
  {
   "cell_type": "code",
   "execution_count": 3,
   "metadata": {},
   "outputs": [],
   "source": [
    "def save_csv(data, filename):\n",
    "    pd.DataFrame(data).to_csv(filename, index=False)\n",
    "    print(f\"Saved: {filename}\")\n",
    "\n"
   ]
  },
  {
   "cell_type": "code",
   "execution_count": 4,
   "metadata": {},
   "outputs": [],
   "source": [
    "\n",
    "def save_json(data, filename):\n",
    "    with open(filename, \"w\", encoding=\"utf-8\") as f:\n",
    "        json.dump(data, f, ensure_ascii=False, indent=4)"
   ]
  },
  {
   "cell_type": "markdown",
   "metadata": {},
   "source": [
    "# Step 1: Extract Text Data"
   ]
  },
  {
   "cell_type": "code",
   "execution_count": 8,
   "metadata": {},
   "outputs": [
    {
     "data": {
      "text/plain": [
       "[<h1>Web Scraping Practice</h1>]"
      ]
     },
     "execution_count": 8,
     "metadata": {},
     "output_type": "execute_result"
    }
   ],
   "source": [
    "h_1 = soup.find_all('h1')\n",
    "h_1\n",
    "\n"
   ]
  },
  {
   "cell_type": "code",
   "execution_count": 9,
   "metadata": {},
   "outputs": [
    {
     "data": {
      "text/plain": [
       "[<h2>Available Products</h2>,\n",
       " <h2>Product Table</h2>,\n",
       " <h2>Watch This Video</h2>,\n",
       " <h2>Contact Us</h2>,\n",
       " <h2>Product Information</h2>,\n",
       " <h2>Featured Products</h2>]"
      ]
     },
     "execution_count": 9,
     "metadata": {},
     "output_type": "execute_result"
    }
   ],
   "source": [
    "h_2 = soup.find_all('h2')\n",
    "h_2\n"
   ]
  },
  {
   "cell_type": "code",
   "execution_count": 10,
   "metadata": {},
   "outputs": [
    {
     "data": {
      "text/plain": [
       "[<p>Welcome to the web scraping task! Use your skills to extract the required data from this page.</p>,\n",
       " <p><strong>Sharp Objects</strong></p>,\n",
       " <p style=\"color: green;\">£47.82</p>,\n",
       " <p style=\"color: green;\">✔ In stock</p>,\n",
       " <p><strong>In a Dark, Dark Wood</strong></p>,\n",
       " <p style=\"color: green;\">£19.63</p>,\n",
       " <p style=\"color: green;\">✔ In stock</p>,\n",
       " <p><strong>The Past Never Ends</strong></p>,\n",
       " <p style=\"color: green;\">£56.50</p>,\n",
       " <p style=\"color: green;\">✔ In stock</p>,\n",
       " <p><strong>A Murder in Time</strong></p>,\n",
       " <p style=\"color: green;\">£16.64</p>,\n",
       " <p style=\"color: green;\"> Out stock</p>,\n",
       " <p class=\"name\">Wireless Headphones</p>,\n",
       " <p class=\"price\" style=\"display: none;\">$49.99</p>,\n",
       " <p class=\"colors\">Available colors: Black, White, Blue</p>,\n",
       " <p class=\"name\">Smart Speaker</p>,\n",
       " <p class=\"price\" style=\"display: none;\">$89.99</p>,\n",
       " <p class=\"colors\">Available colors: Grey, Black</p>,\n",
       " <p class=\"name\">Smart Watch</p>,\n",
       " <p class=\"price\" style=\"display: none;\">$149.99</p>,\n",
       " <p class=\"colors\">Available colors: Black, Silver, Gold</p>,\n",
       " <p>© 2024 Web Scraping Practice. All Rights Reserved.</p>]"
      ]
     },
     "execution_count": 10,
     "metadata": {},
     "output_type": "execute_result"
    }
   ],
   "source": [
    "all_p = soup.find_all('p')\n",
    "all_p\n"
   ]
  },
  {
   "cell_type": "code",
   "execution_count": 11,
   "metadata": {},
   "outputs": [
    {
     "data": {
      "text/plain": [
       "[<li class=\"highlight\">Laptop</li>,\n",
       " <li>Smartphone</li>,\n",
       " <li>Tablet</li>,\n",
       " <li>Smartwatch</li>]"
      ]
     },
     "execution_count": 11,
     "metadata": {},
     "output_type": "execute_result"
    }
   ],
   "source": [
    "all_li = soup.find_all('li')\n",
    "all_li\n",
    " "
   ]
  },
  {
   "cell_type": "code",
   "execution_count": 12,
   "metadata": {},
   "outputs": [
    {
     "name": "stdout",
     "output_type": "stream",
     "text": [
      "Laptop\n",
      "Smartphone\n",
      "Tablet\n",
      "Smartwatch\n"
     ]
    }
   ],
   "source": [
    "for li in all_li:\n",
    "    print(li.get_text())"
   ]
  },
  {
   "cell_type": "code",
   "execution_count": 13,
   "metadata": {},
   "outputs": [
    {
     "name": "stdout",
     "output_type": "stream",
     "text": [
      "Saved: Extract_Table_Data.csv\n"
     ]
    }
   ],
   "source": [
    "temp = h_1 , h_2 , all_li , all_p \n",
    "save_csv(temp , \"Extract_Table_Data.csv\")"
   ]
  },
  {
   "cell_type": "markdown",
   "metadata": {},
   "source": [
    "# Step 2: Extract Table Data"
   ]
  },
  {
   "cell_type": "code",
   "execution_count": 16,
   "metadata": {},
   "outputs": [
    {
     "data": {
      "text/plain": [
       "[<table>\n",
       " <tr>\n",
       " <th>Product</th>\n",
       " <th>Price</th>\n",
       " <th>In Stock</th>\n",
       " </tr>\n",
       " <tr>\n",
       " <td>Laptop</td>\n",
       " <td>$1000</td>\n",
       " <td>Yes</td>\n",
       " </tr>\n",
       " <tr>\n",
       " <td>Smartphone</td>\n",
       " <td>$800</td>\n",
       " <td>No</td>\n",
       " </tr>\n",
       " <tr>\n",
       " <td>Tablet</td>\n",
       " <td>$500</td>\n",
       " <td>Yes</td>\n",
       " </tr>\n",
       " </table>]"
      ]
     },
     "execution_count": 16,
     "metadata": {},
     "output_type": "execute_result"
    }
   ],
   "source": [
    "tables = soup.find_all('table')\n",
    "tables"
   ]
  },
  {
   "cell_type": "code",
   "execution_count": 22,
   "metadata": {},
   "outputs": [
    {
     "name": "stdout",
     "output_type": "stream",
     "text": [
      "Saved: Extract_Table_Data.csv\n"
     ]
    }
   ],
   "source": [
    "\n",
    "table = soup.find('table')\n",
    "if table:\n",
    "    rows = [\n",
    "        {\"Product\": cols[0].text.strip(), \"Price\": cols[1].text.strip(), \"in Stock \": cols[2].text.strip()}\n",
    "        for row in table.find_all('tr')[1:] if (cols := row.find_all('td'))\n",
    "    ]\n",
    "    save_csv(rows, \"Extract_Table_Data.csv\")"
   ]
  },
  {
   "cell_type": "markdown",
   "metadata": {},
   "source": [
    "# Step 3: Extract Product Cards"
   ]
  },
  {
   "cell_type": "code",
   "execution_count": 23,
   "metadata": {},
   "outputs": [],
   "source": [
    "\n",
    "product_cards = [\n",
    "    {\n",
    "        \"Book Title\": card.find('h3').text.strip(),\n",
    "        \"Price\": card.find('p', class_='price').text.strip(),\n",
    "        \"Availability\": card.find('p', class_='availability').text.strip(),\n",
    "        \"Button\": card.find('button').text.strip()\n",
    "    }\n",
    "    for card in soup.find_all('div', class_='book-card')\n",
    "]\n",
    "save_json(product_cards, \"Product_Information.json\")"
   ]
  },
  {
   "cell_type": "markdown",
   "metadata": {},
   "source": [
    "# Step 4: Extract Form Details"
   ]
  },
  {
   "cell_type": "code",
   "execution_count": 24,
   "metadata": {},
   "outputs": [
    {
     "data": {
      "text/plain": [
       "[<form>\n",
       " <label for=\"username\">Username:</label>\n",
       " <input id=\"username\" name=\"username\" placeholder=\"Enter your username\" type=\"text\"/>\n",
       " <label for=\"password\">Password:</label>\n",
       " <input id=\"password\" name=\"password\" placeholder=\"Enter your password\" type=\"password\"/>\n",
       " <label for=\"options\">Choose an option:</label>\n",
       " <select id=\"options\" name=\"options\">\n",
       " <option value=\"option1\">Option 1</option>\n",
       " <option value=\"option2\">Option 2</option>\n",
       " <option value=\"option3\">Option 3</option>\n",
       " </select>\n",
       " <label>\n",
       " <input name=\"terms\" type=\"checkbox\"/> I agree to the terms and conditions\n",
       "             </label>\n",
       " <input type=\"submit\" value=\"Submit\"/>\n",
       " </form>]"
      ]
     },
     "execution_count": 24,
     "metadata": {},
     "output_type": "execute_result"
    }
   ],
   "source": [
    "forms = soup.find_all('form')\n",
    "forms"
   ]
  },
  {
   "cell_type": "code",
   "execution_count": 8,
   "metadata": {},
   "outputs": [],
   "source": [
    "\n",
    "form = soup.find('form')\n",
    "if form:\n",
    "    form_details = [\n",
    "        {\"Field Name\": inp.get('name', 'N/A'), \"Type\": inp.get('type', 'N/A'), \"Default Value\": inp.get('value', '')}\n",
    "        for inp in form.find_all('input')\n",
    "    ]\n",
    "    save_json(form_details, \"Form_Details.json\")"
   ]
  },
  {
   "cell_type": "markdown",
   "metadata": {},
   "source": [
    "# Step 5: Extract Links and Multimedia"
   ]
  },
  {
   "cell_type": "code",
   "execution_count": 9,
   "metadata": {},
   "outputs": [],
   "source": [
    "\n",
    "links = [{\"Text\": a.text.strip(), \"Href\": a['href']} for a in soup.find_all('a', href=True)]\n",
    "iframe = soup.find('iframe')\n",
    "if iframe:\n",
    "    links.append({\"Text\": \"Video\", \"Href\": iframe.get('src')})\n",
    "save_json(links, \"Links_and_Multimedia.json\")"
   ]
  },
  {
   "cell_type": "markdown",
   "metadata": {},
   "source": [
    "# Step 6: Extract Featured Products"
   ]
  },
  {
   "cell_type": "code",
   "execution_count": 10,
   "metadata": {},
   "outputs": [],
   "source": [
    "featured_products = [\n",
    "    {\n",
    "        \"ID\": product['data-id'],\n",
    "        \"Name\": product.find('span', class_='name').text.strip(),\n",
    "        \"Price\": product.find('span', class_='price').text.strip(),\n",
    "        \"Colors\": product.find('span', class_='colors').text.strip()\n",
    "    }\n",
    "    for product in soup.find_all('div', class_='featured-product')\n",
    "]\n",
    "save_json(featured_products, \"Featured_Products.json\")"
   ]
  },
  {
   "cell_type": "markdown",
   "metadata": {},
   "source": [
    "# show the results "
   ]
  },
  {
   "cell_type": "code",
   "execution_count": 15,
   "metadata": {},
   "outputs": [
    {
     "data": {
      "text/html": [
       "<div>\n",
       "<style scoped>\n",
       "    .dataframe tbody tr th:only-of-type {\n",
       "        vertical-align: middle;\n",
       "    }\n",
       "\n",
       "    .dataframe tbody tr th {\n",
       "        vertical-align: top;\n",
       "    }\n",
       "\n",
       "    .dataframe thead th {\n",
       "        text-align: right;\n",
       "    }\n",
       "</style>\n",
       "<table border=\"1\" class=\"dataframe\">\n",
       "  <thead>\n",
       "    <tr style=\"text-align: right;\">\n",
       "      <th></th>\n",
       "      <th>Type</th>\n",
       "      <th>Content</th>\n",
       "    </tr>\n",
       "  </thead>\n",
       "  <tbody>\n",
       "    <tr>\n",
       "      <th>0</th>\n",
       "      <td>Heading</td>\n",
       "      <td>Web Scraping Practice</td>\n",
       "    </tr>\n",
       "    <tr>\n",
       "      <th>1</th>\n",
       "      <td>Heading</td>\n",
       "      <td>Available Products</td>\n",
       "    </tr>\n",
       "    <tr>\n",
       "      <th>2</th>\n",
       "      <td>Heading</td>\n",
       "      <td>Product Table</td>\n",
       "    </tr>\n",
       "    <tr>\n",
       "      <th>3</th>\n",
       "      <td>Heading</td>\n",
       "      <td>Watch This Video</td>\n",
       "    </tr>\n",
       "    <tr>\n",
       "      <th>4</th>\n",
       "      <td>Heading</td>\n",
       "      <td>Contact Us</td>\n",
       "    </tr>\n",
       "    <tr>\n",
       "      <th>5</th>\n",
       "      <td>Heading</td>\n",
       "      <td>Product Information</td>\n",
       "    </tr>\n",
       "    <tr>\n",
       "      <th>6</th>\n",
       "      <td>Heading</td>\n",
       "      <td>Featured Products</td>\n",
       "    </tr>\n",
       "    <tr>\n",
       "      <th>7</th>\n",
       "      <td>Paragraph</td>\n",
       "      <td>Welcome to the web scraping task! Use your ski...</td>\n",
       "    </tr>\n",
       "    <tr>\n",
       "      <th>8</th>\n",
       "      <td>Paragraph</td>\n",
       "      <td>Sharp Objects</td>\n",
       "    </tr>\n",
       "    <tr>\n",
       "      <th>9</th>\n",
       "      <td>Paragraph</td>\n",
       "      <td>£47.82</td>\n",
       "    </tr>\n",
       "    <tr>\n",
       "      <th>10</th>\n",
       "      <td>Paragraph</td>\n",
       "      <td>✔ In stock</td>\n",
       "    </tr>\n",
       "    <tr>\n",
       "      <th>11</th>\n",
       "      <td>Paragraph</td>\n",
       "      <td>In a Dark, Dark Wood</td>\n",
       "    </tr>\n",
       "    <tr>\n",
       "      <th>12</th>\n",
       "      <td>Paragraph</td>\n",
       "      <td>£19.63</td>\n",
       "    </tr>\n",
       "    <tr>\n",
       "      <th>13</th>\n",
       "      <td>Paragraph</td>\n",
       "      <td>✔ In stock</td>\n",
       "    </tr>\n",
       "    <tr>\n",
       "      <th>14</th>\n",
       "      <td>Paragraph</td>\n",
       "      <td>The Past Never Ends</td>\n",
       "    </tr>\n",
       "    <tr>\n",
       "      <th>15</th>\n",
       "      <td>Paragraph</td>\n",
       "      <td>£56.50</td>\n",
       "    </tr>\n",
       "    <tr>\n",
       "      <th>16</th>\n",
       "      <td>Paragraph</td>\n",
       "      <td>✔ In stock</td>\n",
       "    </tr>\n",
       "    <tr>\n",
       "      <th>17</th>\n",
       "      <td>Paragraph</td>\n",
       "      <td>A Murder in Time</td>\n",
       "    </tr>\n",
       "    <tr>\n",
       "      <th>18</th>\n",
       "      <td>Paragraph</td>\n",
       "      <td>£16.64</td>\n",
       "    </tr>\n",
       "    <tr>\n",
       "      <th>19</th>\n",
       "      <td>Paragraph</td>\n",
       "      <td>Out stock</td>\n",
       "    </tr>\n",
       "    <tr>\n",
       "      <th>20</th>\n",
       "      <td>Paragraph</td>\n",
       "      <td>Wireless Headphones</td>\n",
       "    </tr>\n",
       "    <tr>\n",
       "      <th>21</th>\n",
       "      <td>Paragraph</td>\n",
       "      <td>$49.99</td>\n",
       "    </tr>\n",
       "    <tr>\n",
       "      <th>22</th>\n",
       "      <td>Paragraph</td>\n",
       "      <td>Available colors: Black, White, Blue</td>\n",
       "    </tr>\n",
       "    <tr>\n",
       "      <th>23</th>\n",
       "      <td>Paragraph</td>\n",
       "      <td>Smart Speaker</td>\n",
       "    </tr>\n",
       "    <tr>\n",
       "      <th>24</th>\n",
       "      <td>Paragraph</td>\n",
       "      <td>$89.99</td>\n",
       "    </tr>\n",
       "    <tr>\n",
       "      <th>25</th>\n",
       "      <td>Paragraph</td>\n",
       "      <td>Available colors: Grey, Black</td>\n",
       "    </tr>\n",
       "    <tr>\n",
       "      <th>26</th>\n",
       "      <td>Paragraph</td>\n",
       "      <td>Smart Watch</td>\n",
       "    </tr>\n",
       "    <tr>\n",
       "      <th>27</th>\n",
       "      <td>Paragraph</td>\n",
       "      <td>$149.99</td>\n",
       "    </tr>\n",
       "    <tr>\n",
       "      <th>28</th>\n",
       "      <td>Paragraph</td>\n",
       "      <td>Available colors: Black, Silver, Gold</td>\n",
       "    </tr>\n",
       "    <tr>\n",
       "      <th>29</th>\n",
       "      <td>Paragraph</td>\n",
       "      <td>© 2024 Web Scraping Practice. All Rights Reser...</td>\n",
       "    </tr>\n",
       "    <tr>\n",
       "      <th>30</th>\n",
       "      <td>List Item</td>\n",
       "      <td>Laptop</td>\n",
       "    </tr>\n",
       "    <tr>\n",
       "      <th>31</th>\n",
       "      <td>List Item</td>\n",
       "      <td>Smartphone</td>\n",
       "    </tr>\n",
       "    <tr>\n",
       "      <th>32</th>\n",
       "      <td>List Item</td>\n",
       "      <td>Tablet</td>\n",
       "    </tr>\n",
       "    <tr>\n",
       "      <th>33</th>\n",
       "      <td>List Item</td>\n",
       "      <td>Smartwatch</td>\n",
       "    </tr>\n",
       "  </tbody>\n",
       "</table>\n",
       "</div>"
      ],
      "text/plain": [
       "         Type                                            Content\n",
       "0     Heading                              Web Scraping Practice\n",
       "1     Heading                                 Available Products\n",
       "2     Heading                                      Product Table\n",
       "3     Heading                                   Watch This Video\n",
       "4     Heading                                         Contact Us\n",
       "5     Heading                                Product Information\n",
       "6     Heading                                  Featured Products\n",
       "7   Paragraph  Welcome to the web scraping task! Use your ski...\n",
       "8   Paragraph                                      Sharp Objects\n",
       "9   Paragraph                                             £47.82\n",
       "10  Paragraph                                         ✔ In stock\n",
       "11  Paragraph                               In a Dark, Dark Wood\n",
       "12  Paragraph                                             £19.63\n",
       "13  Paragraph                                         ✔ In stock\n",
       "14  Paragraph                                The Past Never Ends\n",
       "15  Paragraph                                             £56.50\n",
       "16  Paragraph                                         ✔ In stock\n",
       "17  Paragraph                                   A Murder in Time\n",
       "18  Paragraph                                             £16.64\n",
       "19  Paragraph                                          Out stock\n",
       "20  Paragraph                                Wireless Headphones\n",
       "21  Paragraph                                             $49.99\n",
       "22  Paragraph               Available colors: Black, White, Blue\n",
       "23  Paragraph                                      Smart Speaker\n",
       "24  Paragraph                                             $89.99\n",
       "25  Paragraph                      Available colors: Grey, Black\n",
       "26  Paragraph                                        Smart Watch\n",
       "27  Paragraph                                            $149.99\n",
       "28  Paragraph              Available colors: Black, Silver, Gold\n",
       "29  Paragraph  © 2024 Web Scraping Practice. All Rights Reser...\n",
       "30  List Item                                             Laptop\n",
       "31  List Item                                         Smartphone\n",
       "32  List Item                                             Tablet\n",
       "33  List Item                                         Smartwatch"
      ]
     },
     "execution_count": 15,
     "metadata": {},
     "output_type": "execute_result"
    }
   ],
   "source": [
    "df = pd.read_csv(\"Extract_Text_Data.csv\")\n",
    "df \n"
   ]
  },
  {
   "cell_type": "code",
   "execution_count": 12,
   "metadata": {},
   "outputs": [
    {
     "data": {
      "text/html": [
       "<div>\n",
       "<style scoped>\n",
       "    .dataframe tbody tr th:only-of-type {\n",
       "        vertical-align: middle;\n",
       "    }\n",
       "\n",
       "    .dataframe tbody tr th {\n",
       "        vertical-align: top;\n",
       "    }\n",
       "\n",
       "    .dataframe thead th {\n",
       "        text-align: right;\n",
       "    }\n",
       "</style>\n",
       "<table border=\"1\" class=\"dataframe\">\n",
       "  <thead>\n",
       "    <tr style=\"text-align: right;\">\n",
       "      <th></th>\n",
       "      <th>Product</th>\n",
       "      <th>Price</th>\n",
       "      <th>in Stock</th>\n",
       "    </tr>\n",
       "  </thead>\n",
       "  <tbody>\n",
       "    <tr>\n",
       "      <th>0</th>\n",
       "      <td>Laptop</td>\n",
       "      <td>$1000</td>\n",
       "      <td>Yes</td>\n",
       "    </tr>\n",
       "    <tr>\n",
       "      <th>1</th>\n",
       "      <td>Smartphone</td>\n",
       "      <td>$800</td>\n",
       "      <td>No</td>\n",
       "    </tr>\n",
       "    <tr>\n",
       "      <th>2</th>\n",
       "      <td>Tablet</td>\n",
       "      <td>$500</td>\n",
       "      <td>Yes</td>\n",
       "    </tr>\n",
       "  </tbody>\n",
       "</table>\n",
       "</div>"
      ],
      "text/plain": [
       "      Product  Price in Stock \n",
       "0      Laptop  $1000       Yes\n",
       "1  Smartphone   $800        No\n",
       "2      Tablet   $500       Yes"
      ]
     },
     "execution_count": 12,
     "metadata": {},
     "output_type": "execute_result"
    }
   ],
   "source": [
    "df = pd.read_csv(\"Extract_Table_Data.csv\")\n",
    "df \n"
   ]
  },
  {
   "cell_type": "code",
   "execution_count": 13,
   "metadata": {},
   "outputs": [
    {
     "name": "stdout",
     "output_type": "stream",
     "text": [
      "[]\n"
     ]
    }
   ],
   "source": [
    "print (product_cards)"
   ]
  },
  {
   "cell_type": "code",
   "execution_count": 14,
   "metadata": {},
   "outputs": [
    {
     "name": "stdout",
     "output_type": "stream",
     "text": [
      "<form>\n",
      "<label for=\"username\">Username:</label>\n",
      "<input id=\"username\" name=\"username\" placeholder=\"Enter your username\" type=\"text\"/>\n",
      "<label for=\"password\">Password:</label>\n",
      "<input id=\"password\" name=\"password\" placeholder=\"Enter your password\" type=\"password\"/>\n",
      "<label for=\"options\">Choose an option:</label>\n",
      "<select id=\"options\" name=\"options\">\n",
      "<option value=\"option1\">Option 1</option>\n",
      "<option value=\"option2\">Option 2</option>\n",
      "<option value=\"option3\">Option 3</option>\n",
      "</select>\n",
      "<label>\n",
      "<input name=\"terms\" type=\"checkbox\"/> I agree to the terms and conditions\n",
      "            </label>\n",
      "<input type=\"submit\" value=\"Submit\"/>\n",
      "</form>\n"
     ]
    }
   ],
   "source": [
    "print (form)"
   ]
  },
  {
   "cell_type": "code",
   "execution_count": 15,
   "metadata": {},
   "outputs": [
    {
     "name": "stdout",
     "output_type": "stream",
     "text": [
      "[{'Text': 'Video', 'Href': 'https://www.youtube.com/watch?v=ujf9RNuBdCU'}]\n"
     ]
    }
   ],
   "source": [
    "print (links )"
   ]
  },
  {
   "cell_type": "code",
   "execution_count": null,
   "metadata": {},
   "outputs": [],
   "source": []
  },
  {
   "cell_type": "code",
   "execution_count": null,
   "metadata": {},
   "outputs": [],
   "source": []
  }
 ],
 "metadata": {
  "kernelspec": {
   "display_name": "base",
   "language": "python",
   "name": "python3"
  },
  "language_info": {
   "codemirror_mode": {
    "name": "ipython",
    "version": 3
   },
   "file_extension": ".py",
   "mimetype": "text/x-python",
   "name": "python",
   "nbconvert_exporter": "python",
   "pygments_lexer": "ipython3",
   "version": "3.12.4"
  }
 },
 "nbformat": 4,
 "nbformat_minor": 2
}
